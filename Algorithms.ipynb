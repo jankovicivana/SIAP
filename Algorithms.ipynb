{
 "cells": [
  {
   "cell_type": "code",
   "execution_count": 4,
   "id": "49459e9b-99f7-41f6-a659-9fbc7f07832d",
   "metadata": {},
   "outputs": [],
   "source": [
    "import pandas\n",
    "import matplotlib.pyplot as plt\n",
    "from sklearn.preprocessing import LabelEncoder\n",
    "from sklearn.preprocessing import OneHotEncoder\n",
    "from sklearn.compose import ColumnTransformer\n",
    "import seaborn as sns\n",
    "import numpy as np\n",
    "from sklearn.linear_model import LinearRegression\n",
    "from sklearn.model_selection import train_test_split\n",
    "from sklearn import metrics\n",
    "import math"
   ]
  },
  {
   "cell_type": "code",
   "execution_count": 5,
   "id": "286c3830-5d05-4106-906a-a7a3386efbde",
   "metadata": {},
   "outputs": [],
   "source": [
    "def get_outlier_indices(df, features):\n",
    "    outlier_indices = []\n",
    "\n",
    "    for c in features:\n",
    "        Q1 = df[c].quantile(0.25)\n",
    "        Q3 = df[c].quantile(0.75)\n",
    "        IQR = Q3 - Q1\n",
    "\n",
    "        outlier_step = 1.5 * IQR\n",
    "\n",
    "        outlier_list_col = df[(df[c] < Q1 - outlier_step) | (df[c] > Q3 + outlier_step)].index\n",
    "        outlier_indices.extend(outlier_list_col)\n",
    "\n",
    "    outlier_indices = list(set(outlier_indices))\n",
    "    return outlier_indices\n",
    "\n",
    "def remove_outliers(df, features):\n",
    "    outlier_indices = get_outlier_indices(df, features)\n",
    "    df_cleaned = df.drop(outlier_indices)\n",
    "    df_cleaned.reset_index(drop=True, inplace=True)\n",
    "    return df_cleaned"
   ]
  },
  {
   "cell_type": "code",
   "execution_count": 7,
   "id": "a10d3551-3b75-4904-8a01-82ab51a1bb32",
   "metadata": {},
   "outputs": [],
   "source": [
    "df = pandas.read_csv('Clean_Dataset.csv')\n",
    "columns_to_drop = ['Unnamed: 0', 'flight']\n",
    "df = df.drop(columns=columns_to_drop)\n",
    "le = LabelEncoder()\n",
    "df['class'] = le.fit_transform(df['class'])\n",
    "\n",
    "# One-hot encoding\n",
    "columns_to_onehot = ['airline', 'source_city', 'destination_city', 'departure_time', 'arrival_time', 'stops']\n",
    "\n",
    "ohe = OneHotEncoder(drop='first', sparse_output=False)\n",
    "one_hot_encoded = ohe.fit_transform(df[columns_to_onehot])\n",
    "\n",
    "df_encoded = pandas.DataFrame(one_hot_encoded, columns=ohe.get_feature_names_out(columns_to_onehot))\n",
    "df = pandas.concat([df.drop(columns=columns_to_onehot), df_encoded], axis=1)\n",
    "df = remove_outliers(df, ['duration', 'price'])\n",
    "X = df.drop(columns='price')\n",
    "y = df.price\n",
    "X_train, X_test, y_train, y_test = train_test_split(X, y, test_size=0.20, random_state=0)"
   ]
  },
  {
   "cell_type": "markdown",
   "id": "8b79ffe9-6518-45ae-848d-d7a15aac2826",
   "metadata": {},
   "source": [
    "## Linear regression"
   ]
  },
  {
   "cell_type": "code",
   "execution_count": 18,
   "id": "d3d6264f-bee2-488c-bf4c-5de8cdbcab03",
   "metadata": {},
   "outputs": [
    {
     "name": "stdout",
     "output_type": "stream",
     "text": [
      "MSE: 44809694.61106912\n",
      "RMSE: 6694.004377879441\n",
      "MAE: 4558.017302847958\n"
     ]
    }
   ],
   "source": [
    "lr = LinearRegression().fit(X, y)\n",
    "y_pred_lr = lr.predict(X_test)\n",
    "mse = metrics.mean_squared_error(y_test, y_pred_lr)\n",
    "rmse = math.sqrt(mse)\n",
    "mae = metrics.mean_absolute_error(y_test, y_pred_lr)\n",
    "print(\"MSE: \" + str(mse))\n",
    "print(\"RMSE: \" + str(rmse))\n",
    "print(\"MAE: \" + str(mae))"
   ]
  },
  {
   "cell_type": "code",
   "execution_count": null,
   "id": "2f505caf-d13c-4462-85ac-e343a64860f7",
   "metadata": {},
   "outputs": [],
   "source": []
  }
 ],
 "metadata": {
  "kernelspec": {
   "display_name": "Python 3 (ipykernel)",
   "language": "python",
   "name": "python3"
  },
  "language_info": {
   "codemirror_mode": {
    "name": "ipython",
    "version": 3
   },
   "file_extension": ".py",
   "mimetype": "text/x-python",
   "name": "python",
   "nbconvert_exporter": "python",
   "pygments_lexer": "ipython3",
   "version": "3.10.4"
  }
 },
 "nbformat": 4,
 "nbformat_minor": 5
}
