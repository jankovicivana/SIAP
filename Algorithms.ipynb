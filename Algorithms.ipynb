{
 "cells": [
  {
   "cell_type": "code",
   "execution_count": 3,
   "id": "49459e9b-99f7-41f6-a659-9fbc7f07832d",
   "metadata": {},
   "outputs": [],
   "source": [
    "import pandas\n",
    "import matplotlib.pyplot as plt\n",
    "from sklearn.preprocessing import LabelEncoder\n",
    "from sklearn.preprocessing import OneHotEncoder\n",
    "from sklearn.compose import ColumnTransformer\n",
    "import seaborn as sns\n",
    "import numpy as np\n",
    "from sklearn.linear_model import LinearRegression\n",
    "from sklearn.ensemble import RandomForestRegressor\n",
    "from sklearn.model_selection import train_test_split\n",
    "from sklearn import metrics\n",
    "from sklearn.ensemble import BaggingRegressor\n",
    "from sklearn.tree import DecisionTreeRegressor\n",
    "from sklearn.model_selection import GridSearchCV\n",
    "import math"
   ]
  },
  {
   "cell_type": "code",
   "execution_count": 4,
   "id": "286c3830-5d05-4106-906a-a7a3386efbde",
   "metadata": {},
   "outputs": [],
   "source": [
    "def get_outlier_indices(df, features):\n",
    "    outlier_indices = []\n",
    "\n",
    "    for c in features:\n",
    "        Q1 = df[c].quantile(0.25)\n",
    "        Q3 = df[c].quantile(0.75)\n",
    "        IQR = Q3 - Q1\n",
    "\n",
    "        outlier_step = 1.5 * IQR\n",
    "\n",
    "        outlier_list_col = df[(df[c] < Q1 - outlier_step) | (df[c] > Q3 + outlier_step)].index\n",
    "        outlier_indices.extend(outlier_list_col)\n",
    "\n",
    "    outlier_indices = list(set(outlier_indices))\n",
    "    return outlier_indices\n",
    "\n",
    "def remove_outliers(df, features):\n",
    "    outlier_indices = get_outlier_indices(df, features)\n",
    "    df_cleaned = df.drop(outlier_indices)\n",
    "    df_cleaned.reset_index(drop=True, inplace=True)\n",
    "    return df_cleaned"
   ]
  },
  {
   "cell_type": "code",
   "execution_count": 5,
   "id": "a10d3551-3b75-4904-8a01-82ab51a1bb32",
   "metadata": {},
   "outputs": [],
   "source": [
    "df = pandas.read_csv('Clean_Dataset.csv')\n",
    "columns_to_drop = ['Unnamed: 0', 'flight']\n",
    "df = df.drop(columns=columns_to_drop)\n",
    "le = LabelEncoder()\n",
    "df['class'] = le.fit_transform(df['class'])\n",
    "\n",
    "# One-hot encoding\n",
    "columns_to_onehot = ['airline', 'source_city', 'destination_city', 'departure_time', 'arrival_time', 'stops']\n",
    "\n",
    "ohe = OneHotEncoder(drop='first', sparse_output=False)\n",
    "one_hot_encoded = ohe.fit_transform(df[columns_to_onehot])\n",
    "\n",
    "df_encoded = pandas.DataFrame(one_hot_encoded, columns=ohe.get_feature_names_out(columns_to_onehot))\n",
    "df = pandas.concat([df.drop(columns=columns_to_onehot), df_encoded], axis=1)\n",
    "df = remove_outliers(df, ['duration', 'price'])\n",
    "X = df.drop(columns='price')\n",
    "y = df.price\n",
    "X_train, X_test, y_train, y_test = train_test_split(X, y, test_size=0.20, random_state=0)"
   ]
  },
  {
   "cell_type": "markdown",
   "id": "8b79ffe9-6518-45ae-848d-d7a15aac2826",
   "metadata": {},
   "source": [
    "## Linear regression"
   ]
  },
  {
   "cell_type": "code",
   "execution_count": 6,
   "id": "d3d6264f-bee2-488c-bf4c-5de8cdbcab03",
   "metadata": {},
   "outputs": [
    {
     "name": "stdout",
     "output_type": "stream",
     "text": [
      "MSE: 44809694.61106912\n",
      "RMSE: 6694.004377879441\n",
      "MAE: 4558.017302847961\n"
     ]
    }
   ],
   "source": [
    "lr = LinearRegression().fit(X, y)\n",
    "y_pred_lr = lr.predict(X_test)\n",
    "mse = metrics.mean_squared_error(y_test, y_pred_lr)\n",
    "rmse = math.sqrt(mse)\n",
    "mae = metrics.mean_absolute_error(y_test, y_pred_lr)\n",
    "print(\"MSE: \" + str(mse))\n",
    "print(\"RMSE: \" + str(rmse))\n",
    "print(\"MAE: \" + str(mae))"
   ]
  },
  {
   "cell_type": "markdown",
   "id": "42b9ba1e-903e-40be-991c-0c75a00cdc2c",
   "metadata": {},
   "source": [
    "## Random forest"
   ]
  },
  {
   "cell_type": "code",
   "execution_count": 5,
   "id": "856d3722-c9aa-4546-8801-5b8fa9f700c4",
   "metadata": {},
   "outputs": [
    {
     "name": "stdout",
     "output_type": "stream",
     "text": [
      "MSE: 7599464.922266816\n",
      "RMSE: 2756.7127021629976\n",
      "MAE: 1158.2103852486134\n"
     ]
    }
   ],
   "source": [
    "rf = RandomForestRegressor(n_estimators=500, max_features=8, n_jobs=-1).fit(X_train, y_train)\n",
    "y_pred_rf = rf.predict(X_test)\n",
    "mse = metrics.mean_squared_error(y_test, y_pred_rf)\n",
    "rmse = math.sqrt(mse)\n",
    "mae = metrics.mean_absolute_error(y_test, y_pred_rf)\n",
    "print(\"MSE: \" + str(mse))\n",
    "print(\"RMSE: \" + str(rmse))\n",
    "print(\"MAE: \" + str(mae))"
   ]
  },
  {
   "cell_type": "markdown",
   "id": "418a6813-f086-48d2-9e52-6a356cdc3e6a",
   "metadata": {},
   "source": [
    "## Multilayer Perceptron"
   ]
  },
  {
   "cell_type": "code",
   "execution_count": 30,
   "id": "9c860936-85fc-4709-9774-de83afd1fb08",
   "metadata": {},
   "outputs": [
    {
     "name": "stdout",
     "output_type": "stream",
     "text": [
      "Epoch 1/10\n",
      "5959/5959 [==============================] - 19s 3ms/step - loss: 124342488.0000 - mae: 6223.3711 - val_loss: 29672728.0000 - val_mae: 3349.4348\n",
      "Epoch 2/10\n",
      "5959/5959 [==============================] - 18s 3ms/step - loss: 27883768.0000 - mae: 3232.3948 - val_loss: 28103098.0000 - val_mae: 3196.2537\n",
      "Epoch 3/10\n",
      "5959/5959 [==============================] - 18s 3ms/step - loss: 26682114.0000 - mae: 3126.9985 - val_loss: 27086154.0000 - val_mae: 3145.5420\n",
      "Epoch 4/10\n",
      "5959/5959 [==============================] - 18s 3ms/step - loss: 25881238.0000 - mae: 3066.3037 - val_loss: 26178814.0000 - val_mae: 3067.0283\n",
      "Epoch 5/10\n",
      "5959/5959 [==============================] - 18s 3ms/step - loss: 25068414.0000 - mae: 3005.2976 - val_loss: 25378264.0000 - val_mae: 3024.3074\n",
      "Epoch 6/10\n",
      "5959/5959 [==============================] - 18s 3ms/step - loss: 24157248.0000 - mae: 2940.4316 - val_loss: 24228226.0000 - val_mae: 2924.5330\n",
      "Epoch 7/10\n",
      "5959/5959 [==============================] - 18s 3ms/step - loss: 23072882.0000 - mae: 2861.8044 - val_loss: 23003014.0000 - val_mae: 2834.2593\n",
      "Epoch 8/10\n",
      "5959/5959 [==============================] - 18s 3ms/step - loss: 22002640.0000 - mae: 2779.0798 - val_loss: 21997208.0000 - val_mae: 2784.7112\n",
      "Epoch 9/10\n",
      "5959/5959 [==============================] - 18s 3ms/step - loss: 21154854.0000 - mae: 2711.7979 - val_loss: 21071990.0000 - val_mae: 2686.6638\n",
      "Epoch 10/10\n",
      "5959/5959 [==============================] - 18s 3ms/step - loss: 20512554.0000 - mae: 2660.2922 - val_loss: 20593906.0000 - val_mae: 2656.8899\n",
      "1862/1862 [==============================] - 4s 2ms/step - loss: 19961192.0000 - mae: 2631.0112\n",
      "Test MAE: 2631.01123046875\n",
      "1862/1862 [==============================] - 4s 2ms/step\n",
      "Test MSE: 19961190.11233649\n",
      "Test RMSE: 4467.794770615195\n"
     ]
    }
   ],
   "source": [
    "from sklearn.model_selection import train_test_split\n",
    "from sklearn.preprocessing import StandardScaler\n",
    "import tensorflow as tf\n",
    "from tensorflow.keras import models, layers\n",
    "from sklearn.metrics import mean_squared_error\n",
    "scaler = StandardScaler()\n",
    "X_train_scaled = scaler.fit_transform(X_train)\n",
    "X_test_scaled = scaler.transform(X_test)\n",
    "\n",
    "model = models.Sequential()\n",
    "model.add(layers.Dense(128, activation='relu', input_shape=(X_train.shape[1],)))\n",
    "model.add(layers.Dense(64, activation='relu'))\n",
    "model.add(layers.Dense(1, activation='linear'))\n",
    "\n",
    "model.compile(optimizer='adam', loss='mean_squared_error', metrics=['mae'])\n",
    "model.fit(X_train_scaled, y_train, epochs=10, batch_size=32, validation_split=0.2)\n",
    "\n",
    "# Evaluate the model on the test set\n",
    "test_loss, test_mae = model.evaluate(X_test_scaled, y_test)\n",
    "print(f'Test MAE: {test_mae}')\n",
    "\n",
    "y_pred = model.predict(X_test_scaled)\n",
    "\n",
    "# Calculate and print MSE and RMSE\n",
    "mse = mean_squared_error(y_test, y_pred)\n",
    "rmse = np.sqrt(mse)\n",
    "\n",
    "print(f'Test MSE: {mse}')\n",
    "print(f'Test RMSE: {rmse}')"
   ]
  },
  {
   "cell_type": "markdown",
   "id": "25570ce2-3bb8-4558-8d84-a03f868ca2c2",
   "metadata": {},
   "source": [
    "## Bagging Regression Tree"
   ]
  },
  {
   "cell_type": "code",
   "execution_count": 10,
   "id": "bbccfbff-ba7b-407c-b952-b1d8ad582233",
   "metadata": {},
   "outputs": [
    {
     "name": "stdout",
     "output_type": "stream",
     "text": [
      "MSE: 7917499.504909788\n",
      "RMSE: 2813.8051647030907\n",
      "MAE: 1095.8675191186674\n"
     ]
    }
   ],
   "source": [
    "base_regressor = DecisionTreeRegressor(random_state=42)\n",
    "\n",
    "# Create a Bagging Regressor with Decision Trees as base estimators\n",
    "bagging_regressor = BaggingRegressor(base_regressor, n_estimators=10, random_state=42)\n",
    "\n",
    "# Define the parameter grid for hyperparameter tuning\n",
    "# param_grid = {\n",
    "#     'n_estimators': [5, 10, 15],\n",
    "#     'max_samples': [0.5, 0.7, 1.0],\n",
    "#     'max_features': [0.5, 0.7, 1.0]\n",
    "# }\n",
    "\n",
    "# # Use GridSearchCV for hyperparameter tuning\n",
    "# grid_search = GridSearchCV(bagging_regressor, param_grid, cv=5, scoring='neg_mean_squared_error')\n",
    "# grid_search.fit(X_train, y_train)\n",
    "\n",
    "# Fit the Bagging Regressor on the training data\n",
    "bagging_regressor.fit(X_train, y_train)\n",
    "\n",
    "# Make predictions on the test data\n",
    "y_pred = bagging_regressor.predict(X_test)\n",
    "\n",
    "mse = metrics.mean_squared_error(y_test, y_pred)\n",
    "rmse = math.sqrt(mse)\n",
    "mae = metrics.mean_absolute_error(y_test, y_pred)\n",
    "print(\"MSE: \" + str(mse))\n",
    "print(\"RMSE: \" + str(rmse))\n",
    "print(\"MAE: \" + str(mae))"
   ]
  },
  {
   "cell_type": "code",
   "execution_count": null,
   "id": "774e708b-b307-4013-8f83-6d27bed440da",
   "metadata": {},
   "outputs": [],
   "source": []
  }
 ],
 "metadata": {
  "kernelspec": {
   "display_name": "Python 3 (ipykernel)",
   "language": "python",
   "name": "python3"
  },
  "language_info": {
   "codemirror_mode": {
    "name": "ipython",
    "version": 3
   },
   "file_extension": ".py",
   "mimetype": "text/x-python",
   "name": "python",
   "nbconvert_exporter": "python",
   "pygments_lexer": "ipython3",
   "version": "3.10.4"
  }
 },
 "nbformat": 4,
 "nbformat_minor": 5
}
